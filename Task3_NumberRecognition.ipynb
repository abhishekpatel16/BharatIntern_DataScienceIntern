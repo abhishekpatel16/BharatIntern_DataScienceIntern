{
  "cells": [
    {
      "cell_type": "markdown",
      "source": [
        "\n",
        "# BHARAT INTERN TASK-3\n",
        "## Number Recognition\n",
        "\n",
        "### BY - ABHISHEK PATEL\n",
        "\n",
        "\n",
        "**Handwritten digit recognition using MNIST dataset to detect the scanned images of handwritten digits**"
      ],
      "metadata": {
        "id": "24mGBAbbXbdp"
      },
      "id": "24mGBAbbXbdp"
    },
    {
      "cell_type": "markdown",
      "source": [
        "## Project Goal\n",
        "This project aims to develop a system that can accurately recognize handwritten digits using the MNIST dataset.\n",
        "\n",
        "\n",
        "## Project Overview\n",
        "\n",
        "This project will involve the following steps:\n",
        "\n",
        "- **1) Importing the dependencies**\n",
        "- **2) Load the MNIST dataset**\n",
        "- **3) Split the data into training and testing sets**\n",
        "- **4) Preprocess the data by scaling it**\n",
        "- **5) Create and train the model**\n",
        "- **6) Make predictions**\n",
        "- **7) Evaluate the model**\n",
        "- **8) Visualize some test samples and their predictions**\n",
        "\n"
      ],
      "metadata": {
        "id": "vRrFLKPTgvWy"
      },
      "id": "vRrFLKPTgvWy"
    },
    {
      "cell_type": "markdown",
      "source": [
        "### 1) Importing the dependencies"
      ],
      "metadata": {
        "id": "HNl7OYzodHIu"
      },
      "id": "HNl7OYzodHIu"
    },
    {
      "cell_type": "code",
      "source": [
        "import numpy as np\n",
        "import matplotlib.pyplot as plt\n",
        "from sklearn.datasets import fetch_openml\n",
        "from sklearn.model_selection import train_test_split\n",
        "from sklearn.preprocessing import StandardScaler\n",
        "from sklearn.neural_network import MLPClassifier\n",
        "from sklearn.metrics import accuracy_score, classification_report, confusion_matrix"
      ],
      "metadata": {
        "id": "hmWmzJW4XW7u"
      },
      "id": "hmWmzJW4XW7u",
      "execution_count": 9,
      "outputs": []
    },
    {
      "cell_type": "markdown",
      "source": [
        "### 2) Load the MNIST dataset"
      ],
      "metadata": {
        "id": "TGD-YxeXdhy2"
      },
      "id": "TGD-YxeXdhy2"
    },
    {
      "cell_type": "code",
      "source": [
        "mnist = fetch_openml(\"mnist_784\", version=1)\n",
        "X, y = mnist.data, mnist.target"
      ],
      "metadata": {
        "colab": {
          "base_uri": "https://localhost:8080/"
        },
        "id": "Ls6rusLcXW42",
        "outputId": "4174e83a-8b04-4470-a9e3-b67af2532982"
      },
      "id": "Ls6rusLcXW42",
      "execution_count": 10,
      "outputs": [
        {
          "output_type": "stream",
          "name": "stderr",
          "text": [
            "/usr/local/lib/python3.10/dist-packages/sklearn/datasets/_openml.py:968: FutureWarning: The default value of `parser` will change from `'liac-arff'` to `'auto'` in 1.4. You can set `parser='auto'` to silence this warning. Therefore, an `ImportError` will be raised from 1.4 if the dataset is dense and pandas is not installed. Note that the pandas parser may return different data types. See the Notes Section in fetch_openml's API doc for details.\n",
            "  warn(\n"
          ]
        }
      ]
    },
    {
      "cell_type": "markdown",
      "source": [
        "### 3) Split the data into training and testing sets"
      ],
      "metadata": {
        "id": "N6LDxUD3f7c7"
      },
      "id": "N6LDxUD3f7c7"
    },
    {
      "cell_type": "code",
      "source": [
        "X_train, X_test, y_train, y_test = train_test_split(X, y, test_size=0.2, random_state=42)"
      ],
      "metadata": {
        "id": "Clm5ZjEvXW1v"
      },
      "id": "Clm5ZjEvXW1v",
      "execution_count": 11,
      "outputs": []
    },
    {
      "cell_type": "markdown",
      "source": [
        "### 4) Preprocess the data by scaling it"
      ],
      "metadata": {
        "id": "xi2nJVqTgM3v"
      },
      "id": "xi2nJVqTgM3v"
    },
    {
      "cell_type": "code",
      "source": [
        "scaler = StandardScaler()\n",
        "X_train = scaler.fit_transform(X_train)\n",
        "X_test = scaler.transform(X_test)"
      ],
      "metadata": {
        "id": "7dk7qjZeXWwv"
      },
      "id": "7dk7qjZeXWwv",
      "execution_count": 12,
      "outputs": []
    },
    {
      "cell_type": "markdown",
      "source": [
        "### 5) Create and train the model"
      ],
      "metadata": {
        "id": "fhWFQI9RfmzM"
      },
      "id": "fhWFQI9RfmzM"
    },
    {
      "cell_type": "code",
      "source": [
        "# Create and train a Multi-Layer Perceptron (MLP) classifier\n",
        "model = MLPClassifier(hidden_layer_sizes=(128, 64), max_iter=1000, random_state=42)\n",
        "model.fit(X_train, y_train)"
      ],
      "metadata": {
        "colab": {
          "base_uri": "https://localhost:8080/",
          "height": 74
        },
        "id": "ib52ckhYX_31",
        "outputId": "19a34293-aeae-4038-b811-aabd8e51cc85"
      },
      "id": "ib52ckhYX_31",
      "execution_count": 13,
      "outputs": [
        {
          "output_type": "execute_result",
          "data": {
            "text/plain": [
              "MLPClassifier(hidden_layer_sizes=(128, 64), max_iter=1000, random_state=42)"
            ],
            "text/html": [
              "<style>#sk-container-id-2 {color: black;background-color: white;}#sk-container-id-2 pre{padding: 0;}#sk-container-id-2 div.sk-toggleable {background-color: white;}#sk-container-id-2 label.sk-toggleable__label {cursor: pointer;display: block;width: 100%;margin-bottom: 0;padding: 0.3em;box-sizing: border-box;text-align: center;}#sk-container-id-2 label.sk-toggleable__label-arrow:before {content: \"▸\";float: left;margin-right: 0.25em;color: #696969;}#sk-container-id-2 label.sk-toggleable__label-arrow:hover:before {color: black;}#sk-container-id-2 div.sk-estimator:hover label.sk-toggleable__label-arrow:before {color: black;}#sk-container-id-2 div.sk-toggleable__content {max-height: 0;max-width: 0;overflow: hidden;text-align: left;background-color: #f0f8ff;}#sk-container-id-2 div.sk-toggleable__content pre {margin: 0.2em;color: black;border-radius: 0.25em;background-color: #f0f8ff;}#sk-container-id-2 input.sk-toggleable__control:checked~div.sk-toggleable__content {max-height: 200px;max-width: 100%;overflow: auto;}#sk-container-id-2 input.sk-toggleable__control:checked~label.sk-toggleable__label-arrow:before {content: \"▾\";}#sk-container-id-2 div.sk-estimator input.sk-toggleable__control:checked~label.sk-toggleable__label {background-color: #d4ebff;}#sk-container-id-2 div.sk-label input.sk-toggleable__control:checked~label.sk-toggleable__label {background-color: #d4ebff;}#sk-container-id-2 input.sk-hidden--visually {border: 0;clip: rect(1px 1px 1px 1px);clip: rect(1px, 1px, 1px, 1px);height: 1px;margin: -1px;overflow: hidden;padding: 0;position: absolute;width: 1px;}#sk-container-id-2 div.sk-estimator {font-family: monospace;background-color: #f0f8ff;border: 1px dotted black;border-radius: 0.25em;box-sizing: border-box;margin-bottom: 0.5em;}#sk-container-id-2 div.sk-estimator:hover {background-color: #d4ebff;}#sk-container-id-2 div.sk-parallel-item::after {content: \"\";width: 100%;border-bottom: 1px solid gray;flex-grow: 1;}#sk-container-id-2 div.sk-label:hover label.sk-toggleable__label {background-color: #d4ebff;}#sk-container-id-2 div.sk-serial::before {content: \"\";position: absolute;border-left: 1px solid gray;box-sizing: border-box;top: 0;bottom: 0;left: 50%;z-index: 0;}#sk-container-id-2 div.sk-serial {display: flex;flex-direction: column;align-items: center;background-color: white;padding-right: 0.2em;padding-left: 0.2em;position: relative;}#sk-container-id-2 div.sk-item {position: relative;z-index: 1;}#sk-container-id-2 div.sk-parallel {display: flex;align-items: stretch;justify-content: center;background-color: white;position: relative;}#sk-container-id-2 div.sk-item::before, #sk-container-id-2 div.sk-parallel-item::before {content: \"\";position: absolute;border-left: 1px solid gray;box-sizing: border-box;top: 0;bottom: 0;left: 50%;z-index: -1;}#sk-container-id-2 div.sk-parallel-item {display: flex;flex-direction: column;z-index: 1;position: relative;background-color: white;}#sk-container-id-2 div.sk-parallel-item:first-child::after {align-self: flex-end;width: 50%;}#sk-container-id-2 div.sk-parallel-item:last-child::after {align-self: flex-start;width: 50%;}#sk-container-id-2 div.sk-parallel-item:only-child::after {width: 0;}#sk-container-id-2 div.sk-dashed-wrapped {border: 1px dashed gray;margin: 0 0.4em 0.5em 0.4em;box-sizing: border-box;padding-bottom: 0.4em;background-color: white;}#sk-container-id-2 div.sk-label label {font-family: monospace;font-weight: bold;display: inline-block;line-height: 1.2em;}#sk-container-id-2 div.sk-label-container {text-align: center;}#sk-container-id-2 div.sk-container {/* jupyter's `normalize.less` sets `[hidden] { display: none; }` but bootstrap.min.css set `[hidden] { display: none !important; }` so we also need the `!important` here to be able to override the default hidden behavior on the sphinx rendered scikit-learn.org. See: https://github.com/scikit-learn/scikit-learn/issues/21755 */display: inline-block !important;position: relative;}#sk-container-id-2 div.sk-text-repr-fallback {display: none;}</style><div id=\"sk-container-id-2\" class=\"sk-top-container\"><div class=\"sk-text-repr-fallback\"><pre>MLPClassifier(hidden_layer_sizes=(128, 64), max_iter=1000, random_state=42)</pre><b>In a Jupyter environment, please rerun this cell to show the HTML representation or trust the notebook. <br />On GitHub, the HTML representation is unable to render, please try loading this page with nbviewer.org.</b></div><div class=\"sk-container\" hidden><div class=\"sk-item\"><div class=\"sk-estimator sk-toggleable\"><input class=\"sk-toggleable__control sk-hidden--visually\" id=\"sk-estimator-id-2\" type=\"checkbox\" checked><label for=\"sk-estimator-id-2\" class=\"sk-toggleable__label sk-toggleable__label-arrow\">MLPClassifier</label><div class=\"sk-toggleable__content\"><pre>MLPClassifier(hidden_layer_sizes=(128, 64), max_iter=1000, random_state=42)</pre></div></div></div></div></div>"
            ]
          },
          "metadata": {},
          "execution_count": 13
        }
      ]
    },
    {
      "cell_type": "markdown",
      "source": [
        "### 6) Make Predictions on the test data"
      ],
      "metadata": {
        "id": "9jtLMSEgfJws"
      },
      "id": "9jtLMSEgfJws"
    },
    {
      "cell_type": "code",
      "source": [
        "y_pred = model.predict(X_test)"
      ],
      "metadata": {
        "id": "ryyh5N37X_zh"
      },
      "id": "ryyh5N37X_zh",
      "execution_count": 14,
      "outputs": []
    },
    {
      "cell_type": "markdown",
      "source": [
        "### 7) Evaluate the model"
      ],
      "metadata": {
        "id": "ku_bDbUseRAs"
      },
      "id": "ku_bDbUseRAs"
    },
    {
      "cell_type": "code",
      "source": [
        "accuracy = accuracy_score(y_test, y_pred)\n",
        "confusion = confusion_matrix(y_test, y_pred)\n",
        "classification_rep = classification_report(y_test, y_pred)\n",
        "\n",
        "print(f\"Accuracy: {accuracy}\")\n",
        "print(\"Confusion Matrix:\")\n",
        "print(confusion)\n",
        "print(\"Classification Report:\")\n",
        "print(classification_rep)"
      ],
      "metadata": {
        "colab": {
          "base_uri": "https://localhost:8080/"
        },
        "id": "WhM2NylyX_vu",
        "outputId": "e2834cc5-775c-437a-a810-5cbb42d2bea9"
      },
      "id": "WhM2NylyX_vu",
      "execution_count": 15,
      "outputs": [
        {
          "output_type": "stream",
          "name": "stdout",
          "text": [
            "Accuracy: 0.9757142857142858\n",
            "Confusion Matrix:\n",
            "[[1321    1    3    0    0    2    8    1    5    2]\n",
            " [   0 1590    2    1    1    1    0    5    0    0]\n",
            " [   2    8 1341    4    5    2    3    7    6    2]\n",
            " [   2    1   10 1391    1   12    0    9    4    3]\n",
            " [   2    1    3    0 1268    1    2    4    1   13]\n",
            " [   0    0    2   14    3 1235   10    1    7    1]\n",
            " [   1    1    0    0    5    3 1382    0    4    0]\n",
            " [   2    2   10    1    5    1    0 1469    2   11]\n",
            " [   4    7    9   13    3    7    5    4 1296    9]\n",
            " [   7    5    1    6   13    3    1    9    8 1367]]\n",
            "Classification Report:\n",
            "              precision    recall  f1-score   support\n",
            "\n",
            "           0       0.99      0.98      0.98      1343\n",
            "           1       0.98      0.99      0.99      1600\n",
            "           2       0.97      0.97      0.97      1380\n",
            "           3       0.97      0.97      0.97      1433\n",
            "           4       0.97      0.98      0.98      1295\n",
            "           5       0.97      0.97      0.97      1273\n",
            "           6       0.98      0.99      0.98      1396\n",
            "           7       0.97      0.98      0.98      1503\n",
            "           8       0.97      0.96      0.96      1357\n",
            "           9       0.97      0.96      0.97      1420\n",
            "\n",
            "    accuracy                           0.98     14000\n",
            "   macro avg       0.98      0.98      0.98     14000\n",
            "weighted avg       0.98      0.98      0.98     14000\n",
            "\n"
          ]
        }
      ]
    },
    {
      "cell_type": "markdown",
      "source": [
        "### 8) Visualize some test samples and their predictions"
      ],
      "metadata": {
        "id": "g05799nQe4ND"
      },
      "id": "g05799nQe4ND"
    },
    {
      "cell_type": "code",
      "source": [
        "plt.figure(figsize=(10, 5))\n",
        "for i in range(10):\n",
        "    plt.subplot(2, 5, i + 1)\n",
        "    plt.imshow(X_test[i].reshape(28, 28), cmap='gray')\n",
        "    plt.title(f'Predicted: {y_pred[i]}')\n",
        "    plt.axis('off')\n",
        "plt.show()"
      ],
      "metadata": {
        "colab": {
          "base_uri": "https://localhost:8080/",
          "height": 402
        },
        "id": "EBdtq9SlXWl_",
        "outputId": "92fd65e6-71d7-491a-d5c7-6f6fd389e583"
      },
      "id": "EBdtq9SlXWl_",
      "execution_count": 16,
      "outputs": [
        {
          "output_type": "display_data",
          "data": {
            "text/plain": [
              "<Figure size 1000x500 with 10 Axes>"
            ],
            "image/png": "[encoded data removed]"
          },
          "metadata": {}
        }
      ]
    },
    {
      "cell_type": "markdown",
      "source": [
        "**Conclusion:**\n",
        "\n",
        "This project is a great way to learn about machine learning and apply it to a real-world problem. By developing a handwritten digit recognition system, you can gain valuable experience in data preparation, model selection, model training, model evaluation, and model deployment."
      ],
      "metadata": {
        "id": "T9Vb5bWRo16M"
      },
      "id": "T9Vb5bWRo16M"
    },
    {
      "cell_type": "markdown",
      "source": [
        "Thank you :)\n",
        "\n",
        "- **ABHISHEK PATEL**\n",
        "\n",
        "Github: https://github.com/abhishekpatel16\n",
        "\n",
        "LinkedIn: https://www.linkedin.com/in/abhishekpatel16"
      ],
      "metadata": {
        "id": "_NFbC1mXpkvp"
      },
      "id": "_NFbC1mXpkvp"
    }
  ],
  "metadata": {
    "kernelspec": {
      "display_name": "Python 3 (ipykernel)",
      "language": "python",
      "name": "python3"
    },
    "language_info": {
      "codemirror_mode": {
        "name": "ipython",
        "version": 3
      },
      "file_extension": ".py",
      "mimetype": "text/x-python",
      "name": "python",
      "nbconvert_exporter": "python",
      "pygments_lexer": "ipython3",
      "version": "3.11.4"
    },
    "colab": {
      "provenance": []
    }
  },
  "nbformat": 4,
  "nbformat_minor": 5
}